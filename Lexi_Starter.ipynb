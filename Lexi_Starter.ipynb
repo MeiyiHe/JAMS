{
 "cells": [
  {
   "cell_type": "code",
   "execution_count": 6,
   "metadata": {},
   "outputs": [],
   "source": [
    "import json\n",
    "import numpy as np\n",
    "import pandas as pd\n",
    "\n",
    "from collections import defaultdict\n",
    "from sklearn.model_selection import train_test_split\n",
    "from sklearn.metrics import accuracy_score"
   ]
  },
  {
   "cell_type": "code",
   "execution_count": 2,
   "metadata": {},
   "outputs": [],
   "source": [
    "file = \"/Users/meiyihe/Desktop/NYU/Fall2018/data/renttherunway_final_data.json\"\n",
    "df = pd.read_json(file, lines=True)"
   ]
  },
  {
   "cell_type": "code",
   "execution_count": 3,
   "metadata": {},
   "outputs": [
    {
     "data": {
      "text/plain": [
       "(192544, 15)"
      ]
     },
     "execution_count": 3,
     "metadata": {},
     "output_type": "execute_result"
    }
   ],
   "source": [
    "df.shape"
   ]
  },
  {
   "cell_type": "code",
   "execution_count": 9,
   "metadata": {},
   "outputs": [
    {
     "data": {
      "text/html": [
       "<div>\n",
       "<style scoped>\n",
       "    .dataframe tbody tr th:only-of-type {\n",
       "        vertical-align: middle;\n",
       "    }\n",
       "\n",
       "    .dataframe tbody tr th {\n",
       "        vertical-align: top;\n",
       "    }\n",
       "\n",
       "    .dataframe thead th {\n",
       "        text-align: right;\n",
       "    }\n",
       "</style>\n",
       "<table border=\"1\" class=\"dataframe\">\n",
       "  <thead>\n",
       "    <tr style=\"text-align: right;\">\n",
       "      <th></th>\n",
       "      <th>age</th>\n",
       "      <th>body type</th>\n",
       "      <th>bust size</th>\n",
       "      <th>category</th>\n",
       "      <th>fit</th>\n",
       "      <th>height</th>\n",
       "      <th>item_id</th>\n",
       "      <th>rating</th>\n",
       "      <th>rented for</th>\n",
       "      <th>review_date</th>\n",
       "      <th>review_summary</th>\n",
       "      <th>review_text</th>\n",
       "      <th>size</th>\n",
       "      <th>user_id</th>\n",
       "      <th>weight</th>\n",
       "    </tr>\n",
       "  </thead>\n",
       "  <tbody>\n",
       "    <tr>\n",
       "      <th>0</th>\n",
       "      <td>28.0</td>\n",
       "      <td>hourglass</td>\n",
       "      <td>34d</td>\n",
       "      <td>romper</td>\n",
       "      <td>fit</td>\n",
       "      <td>5' 8\"</td>\n",
       "      <td>2260466</td>\n",
       "      <td>10.0</td>\n",
       "      <td>vacation</td>\n",
       "      <td>April 20, 2016</td>\n",
       "      <td>So many compliments!</td>\n",
       "      <td>An adorable romper! Belt and zipper were a lit...</td>\n",
       "      <td>14</td>\n",
       "      <td>420272</td>\n",
       "      <td>137lbs</td>\n",
       "    </tr>\n",
       "    <tr>\n",
       "      <th>1</th>\n",
       "      <td>36.0</td>\n",
       "      <td>straight &amp; narrow</td>\n",
       "      <td>34b</td>\n",
       "      <td>gown</td>\n",
       "      <td>fit</td>\n",
       "      <td>5' 6\"</td>\n",
       "      <td>153475</td>\n",
       "      <td>10.0</td>\n",
       "      <td>other</td>\n",
       "      <td>June 18, 2013</td>\n",
       "      <td>I felt so glamourous!!!</td>\n",
       "      <td>I rented this dress for a photo shoot. The the...</td>\n",
       "      <td>12</td>\n",
       "      <td>273551</td>\n",
       "      <td>132lbs</td>\n",
       "    </tr>\n",
       "    <tr>\n",
       "      <th>2</th>\n",
       "      <td>116.0</td>\n",
       "      <td>NaN</td>\n",
       "      <td>NaN</td>\n",
       "      <td>sheath</td>\n",
       "      <td>fit</td>\n",
       "      <td>5' 4\"</td>\n",
       "      <td>1063761</td>\n",
       "      <td>10.0</td>\n",
       "      <td>party</td>\n",
       "      <td>December 14, 2015</td>\n",
       "      <td>It was a great time to celebrate the (almost) ...</td>\n",
       "      <td>This hugged in all the right places! It was a ...</td>\n",
       "      <td>4</td>\n",
       "      <td>360448</td>\n",
       "      <td>NaN</td>\n",
       "    </tr>\n",
       "    <tr>\n",
       "      <th>3</th>\n",
       "      <td>34.0</td>\n",
       "      <td>pear</td>\n",
       "      <td>34c</td>\n",
       "      <td>dress</td>\n",
       "      <td>fit</td>\n",
       "      <td>5' 5\"</td>\n",
       "      <td>126335</td>\n",
       "      <td>8.0</td>\n",
       "      <td>formal affair</td>\n",
       "      <td>February 12, 2014</td>\n",
       "      <td>Dress arrived on time and in perfect condition.</td>\n",
       "      <td>I rented this for my company's black tie award...</td>\n",
       "      <td>8</td>\n",
       "      <td>909926</td>\n",
       "      <td>135lbs</td>\n",
       "    </tr>\n",
       "    <tr>\n",
       "      <th>4</th>\n",
       "      <td>27.0</td>\n",
       "      <td>athletic</td>\n",
       "      <td>34b</td>\n",
       "      <td>gown</td>\n",
       "      <td>fit</td>\n",
       "      <td>5' 9\"</td>\n",
       "      <td>616682</td>\n",
       "      <td>10.0</td>\n",
       "      <td>wedding</td>\n",
       "      <td>September 26, 2016</td>\n",
       "      <td>Was in love with this dress !!!</td>\n",
       "      <td>I have always been petite in my upper body and...</td>\n",
       "      <td>12</td>\n",
       "      <td>151944</td>\n",
       "      <td>145lbs</td>\n",
       "    </tr>\n",
       "  </tbody>\n",
       "</table>\n",
       "</div>"
      ],
      "text/plain": [
       "     age          body type bust size category  fit height  item_id  rating  \\\n",
       "0   28.0          hourglass       34d   romper  fit  5' 8\"  2260466    10.0   \n",
       "1   36.0  straight & narrow       34b     gown  fit  5' 6\"   153475    10.0   \n",
       "2  116.0                NaN       NaN   sheath  fit  5' 4\"  1063761    10.0   \n",
       "3   34.0               pear       34c    dress  fit  5' 5\"   126335     8.0   \n",
       "4   27.0           athletic       34b     gown  fit  5' 9\"   616682    10.0   \n",
       "\n",
       "      rented for         review_date  \\\n",
       "0       vacation      April 20, 2016   \n",
       "1          other       June 18, 2013   \n",
       "2          party   December 14, 2015   \n",
       "3  formal affair   February 12, 2014   \n",
       "4        wedding  September 26, 2016   \n",
       "\n",
       "                                      review_summary  \\\n",
       "0                               So many compliments!   \n",
       "1                            I felt so glamourous!!!   \n",
       "2  It was a great time to celebrate the (almost) ...   \n",
       "3   Dress arrived on time and in perfect condition.    \n",
       "4                    Was in love with this dress !!!   \n",
       "\n",
       "                                         review_text  size  user_id  weight  \n",
       "0  An adorable romper! Belt and zipper were a lit...    14   420272  137lbs  \n",
       "1  I rented this dress for a photo shoot. The the...    12   273551  132lbs  \n",
       "2  This hugged in all the right places! It was a ...     4   360448     NaN  \n",
       "3  I rented this for my company's black tie award...     8   909926  135lbs  \n",
       "4  I have always been petite in my upper body and...    12   151944  145lbs  "
      ]
     },
     "execution_count": 9,
     "metadata": {},
     "output_type": "execute_result"
    }
   ],
   "source": [
    "df.head()"
   ]
  },
  {
   "cell_type": "code",
   "execution_count": 19,
   "metadata": {},
   "outputs": [],
   "source": [
    "#df.describe()\n",
    "#df['category'].unique()\n",
    "#df['rented for'].unique()"
   ]
  },
  {
   "cell_type": "code",
   "execution_count": 11,
   "metadata": {},
   "outputs": [],
   "source": [
    "df_train, df_test = train_test_split(df, test_size=0.33, random_state=42)"
   ]
  },
  {
   "cell_type": "code",
   "execution_count": 12,
   "metadata": {},
   "outputs": [
    {
     "data": {
      "text/plain": [
       "129004"
      ]
     },
     "execution_count": 12,
     "metadata": {},
     "output_type": "execute_result"
    }
   ],
   "source": [
    "len(df_train)"
   ]
  },
  {
   "cell_type": "code",
   "execution_count": 25,
   "metadata": {},
   "outputs": [],
   "source": [
    "# user: list of items\n",
    "user_itemList = defaultdict(set)\n",
    "# item: list of users\n",
    "item_userList = defaultdict(set)\n",
    "\n",
    "for idx, row in df.iterrows():\n",
    "    user_itemList[ row['user_id'] ].add( row['item_id'] )\n",
    "\n",
    "    item_userList[ row['item_id'] ].add( row['user_id'] )"
   ]
  },
  {
   "cell_type": "code",
   "execution_count": 28,
   "metadata": {},
   "outputs": [
    {
     "data": {
      "text/plain": [
       "{47899,\n",
       " 94753,\n",
       " 136859,\n",
       " 144861,\n",
       " 145029,\n",
       " 171714,\n",
       " 215334,\n",
       " 243703,\n",
       " 359898,\n",
       " 416078,\n",
       " 420272,\n",
       " 441521,\n",
       " 462827,\n",
       " 479124,\n",
       " 498645,\n",
       " 525031,\n",
       " 529453,\n",
       " 563439,\n",
       " 569796,\n",
       " 586735,\n",
       " 598173,\n",
       " 652163,\n",
       " 691468,\n",
       " 765263,\n",
       " 766938,\n",
       " 784760,\n",
       " 956455,\n",
       " 964661}"
      ]
     },
     "execution_count": 28,
     "metadata": {},
     "output_type": "execute_result"
    }
   ],
   "source": [
    "item_userList[2260466]"
   ]
  },
  {
   "cell_type": "code",
   "execution_count": 31,
   "metadata": {},
   "outputs": [],
   "source": [
    "def find_jaccard(user, item, user_itemList, item_userList):\n",
    "    # get the purchase history of current user\n",
    "    curr_items = user_itemList[user]\n",
    "    # get the users lists who have purchase this item\n",
    "    curr_users = item_userList[item]\n",
    "    \n",
    "    # find the set of items that purchased by people who had purchased the item we want to test\n",
    "    tmp_items = []\n",
    "    # calculate jaccard score\n",
    "    for i in curr_users:\n",
    "        tmp_items += list(user_itemList[i])\n",
    "    tmp_items = list(set(tmp_items))\n",
    "    \n",
    "    item_score = float(len(set(curr_items)&set(tmp_items))) / float(len(set(curr_items) | set(tmp_items)))\n",
    "    \n",
    "    # find the set of users that purchased the items bought by current users\n",
    "    # i.e. for each item purchased by current user, find who else bought this items\n",
    "    tmp_users = []\n",
    "    for i in curr_items:\n",
    "        tmp_users += list(item_userList[i])\n",
    "    tmp_users = list(set(tmp_users))\n",
    "    \n",
    "    user_score = float(len(set(curr_users)&set(tmp_users))) / float(len(set(curr_users) | set(tmp_users)))\n",
    "    return max(item_score, user_score)\n",
    "#     print(item_score)\n",
    "#     print(user_score)"
   ]
  },
  {
   "cell_type": "code",
   "execution_count": 32,
   "metadata": {},
   "outputs": [
    {
     "data": {
      "text/plain": [
       "0.22764227642276422"
      ]
     },
     "execution_count": 32,
     "metadata": {},
     "output_type": "execute_result"
    }
   ],
   "source": [
    "find_jaccard(47899,2260466,user_itemList, item_userList)"
   ]
  },
  {
   "cell_type": "code",
   "execution_count": null,
   "metadata": {},
   "outputs": [],
   "source": []
  }
 ],
 "metadata": {
  "kernelspec": {
   "display_name": "Python 3",
   "language": "python",
   "name": "python3"
  },
  "language_info": {
   "codemirror_mode": {
    "name": "ipython",
    "version": 3
   },
   "file_extension": ".py",
   "mimetype": "text/x-python",
   "name": "python",
   "nbconvert_exporter": "python",
   "pygments_lexer": "ipython3",
   "version": "3.6.5"
  }
 },
 "nbformat": 4,
 "nbformat_minor": 2
}
